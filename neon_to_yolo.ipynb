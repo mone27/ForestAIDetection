{
 "cells": [
  {
   "cell_type": "markdown",
   "metadata": {},
   "source": [
    "# Neon to Yolo\n",
    "\n",
    "converts the data the annotations from Neon into a YOLO format"
   ]
  },
  {
   "cell_type": "code",
   "execution_count": 81,
   "metadata": {},
   "outputs": [
    {
     "name": "stderr",
     "output_type": "stream",
     "text": [
      "Importing VOC files...: 100%|██████████| 227/227 [00:02<00:00, 106.28it/s]\n",
      "Exporting YOLO files...: 100%|██████████| 226/226 [00:00<00:00, 235.91it/s]\n"
     ]
    },
    {
     "data": {
      "text/plain": [
       "['training/dataset.yaml',\n",
       " 'training/labels/10.txt',\n",
       " 'training/labels/SERC_004_2019.txt',\n",
       " 'training/labels/CLBJ_040_2018.txt',\n",
       " 'training/labels/8.txt',\n",
       " 'training/labels/2018_SJER_3_252000_4107000_image_477.txt',\n",
       " 'training/labels/JERC_055_2018.txt',\n",
       " 'training/labels/BONA_014_2019.txt',\n",
       " 'training/labels/SERC_062_2019.txt',\n",
       " 'training/labels/NIWO_015_2018.txt',\n",
       " 'training/labels/TEAK_058_2018.txt',\n",
       " 'training/labels/JERC_056_2018.txt',\n",
       " 'training/labels/OSBS_011_2019.txt',\n",
       " 'training/labels/SJER_022_2018.txt',\n",
       " 'training/labels/MLBS_063_2018.txt',\n",
       " 'training/labels/SJER_010_2018.txt',\n",
       " 'training/labels/SJER_021_2018.txt',\n",
       " 'training/labels/SJER_005_2018.txt',\n",
       " 'training/labels/SJER_052_2018.txt',\n",
       " 'training/labels/2018_SJER_3_252000_4106000_image_326.txt',\n",
       " 'training/labels/BART_050_2019.txt',\n",
       " 'training/labels/2018_TEAK_3_322000_4103000_image_50.txt',\n",
       " 'training/labels/DSNY_006_2018.txt',\n",
       " 'training/labels/OSBS_003_2019.txt',\n",
       " 'training/labels/2018_SJER_3_254000_4104000_image_163.txt',\n",
       " 'training/labels/2018_SJER_3_253000_4105000_image_72.txt',\n",
       " 'training/labels/2018_TEAK_3_318000_4103000_image_261.txt',\n",
       " 'training/labels/2019_OSBS_5_405000_3287000_image_crop.txt',\n",
       " 'training/labels/2018_TEAK_3_316000_4097000_image_35.txt',\n",
       " 'training/labels/2018_SJER_3_259000_4110000_image.txt',\n",
       " 'training/labels/OSBS_022_2019.txt',\n",
       " 'training/labels/OSBS_015_2019.txt',\n",
       " 'training/labels/2018_TEAK_3_321000_4101000_image_689.txt',\n",
       " 'training/labels/OSBS_039_2019.txt',\n",
       " 'training/labels/OSBS_032_2019.txt',\n",
       " 'training/labels/SJER_015_2018.txt',\n",
       " 'training/labels/2018_TEAK_3_320000_4095000_image_616.txt',\n",
       " 'training/labels/SOAP_056_2019.txt',\n",
       " 'training/labels/DSNY_012_2018.txt',\n",
       " 'training/labels/NIWO_042_2018.txt',\n",
       " 'training/labels/2018_TEAK_3_322000_4107000_image_518.txt',\n",
       " 'training/labels/MLBS_069_2018.txt',\n",
       " 'training/labels/SJER_049_2018.txt',\n",
       " 'training/labels/2019_DELA_5_423000_3601000_image_crop.txt',\n",
       " 'training/labels/2018_HARV_5_733000_4698000_image_crop.txt',\n",
       " 'training/labels/7.txt',\n",
       " 'training/labels/ONAQ_021_2019.txt',\n",
       " 'training/labels/2018_SJER_3_254000_4109000_image_337.txt',\n",
       " 'training/labels/SJER_048_2018.txt',\n",
       " 'training/labels/TEAK_061_2018.txt',\n",
       " 'training/labels/TEAK_047_2018.txt',\n",
       " 'training/labels/MLBS_071_2018.txt',\n",
       " 'training/labels/2018_SJER_3_255000_4108000_image_267.txt',\n",
       " 'training/labels/TEAK_059_2018.txt',\n",
       " 'training/labels/WREF_083_2019.txt',\n",
       " 'training/labels/2019_DSNY_5_452000_3113000_image_crop.txt',\n",
       " 'training/labels/SJER_056_2018.txt',\n",
       " 'training/labels/2018_TEAK_3_317000_4105000_image_542.txt',\n",
       " 'training/labels/SJER_058_2018.txt',\n",
       " 'training/labels/TEAK_043_2018.txt',\n",
       " 'training/labels/4.txt',\n",
       " 'training/labels/12.txt',\n",
       " 'training/labels/SJER_002_2018.txt',\n",
       " 'training/labels/SJER_054_2018.txt',\n",
       " 'training/labels/2018_TEAK_3_315000_4101000_image_600.txt',\n",
       " 'training/labels/2018_TEAK_3_316000_4092000_image_620.txt',\n",
       " 'training/labels/BONA_018_2019.txt',\n",
       " 'training/labels/JERC_059_2018.txt',\n",
       " 'training/labels/SJER_062_2018.txt',\n",
       " 'training/labels/HARV_041_2018.txt',\n",
       " 'training/labels/BART_036_2019.txt',\n",
       " 'training/labels/SJER_016_2018.txt',\n",
       " 'training/labels/2018_TEAK_3_316000_4091000_image_446.txt',\n",
       " 'training/labels/TEAK_045_2018.txt',\n",
       " 'training/labels/TEAK_057_2018.txt',\n",
       " 'training/labels/6.txt',\n",
       " 'training/labels/NIWO_014_2018.txt',\n",
       " 'training/labels/MLBS_064_2018.txt',\n",
       " 'training/labels/2018_TEAK_3_323000_4101000_image_415.txt',\n",
       " 'training/labels/UNDE_065_2017.txt',\n",
       " 'training/labels/2018_SJER_3_252000_4112000_image_451.txt',\n",
       " 'training/labels/2018_TEAK_3_320000_4094000_image_587.txt',\n",
       " 'training/labels/WREF_072_2019.txt',\n",
       " 'training/labels/JERC_048_2018.txt',\n",
       " 'training/labels/LENO_016_2019.txt',\n",
       " 'training/labels/SCBI_047_2019.txt',\n",
       " 'training/labels/2018_MLBS_3_541000_4140000_image_crop2.txt',\n",
       " 'training/labels/JERC_047_2018.txt',\n",
       " 'training/labels/TEAK_052_2018.txt',\n",
       " 'training/labels/MLBS_073_2018.txt',\n",
       " 'training/labels/2018_TEAK_3_316000_4093000_image_59.txt',\n",
       " 'training/labels/LENO_066_2019.txt',\n",
       " 'training/labels/2018_TEAK_3_321000_4106000_image_263.txt',\n",
       " 'training/labels/BONA_012_2019.txt',\n",
       " 'training/labels/2018_TEAK_3_322000_4097000_image_216.txt',\n",
       " 'training/labels/2018_SJER_3_254000_4108000_image_188.txt',\n",
       " 'training/labels/2019_SJER_4_251000_4103000_image.txt',\n",
       " 'training/labels/OSBS_008_2019.txt',\n",
       " 'training/labels/NIWO_005_2018.txt',\n",
       " 'training/labels/2018_SJER_3_255000_4108000_image_93.txt',\n",
       " 'training/labels/2018_TEAK_3_316000_4097000_image_493.txt',\n",
       " 'training/labels/2018_TEAK_3_316000_4095000_image_397.txt',\n",
       " 'training/labels/OSBS_033_2019.txt',\n",
       " 'training/labels/2018_SJER_3_258000_4106000_image.txt',\n",
       " 'training/labels/2018_SJER_3_252000_4107000_image_372.txt',\n",
       " 'training/labels/SJER_045_2018.txt',\n",
       " 'training/labels/SJER_055_2018.txt',\n",
       " 'training/labels/NIWO_016_2018.txt',\n",
       " 'training/labels/2018_SJER_3_254000_4108000_image_700.txt',\n",
       " 'training/labels/2018_SJER_3_254000_4107000_image_670.txt',\n",
       " 'training/labels/SJER_009_2018.txt',\n",
       " 'training/labels/2019_YELL_2_541000_4977000_image_crop.txt',\n",
       " 'training/labels/BONA_005_2019.txt',\n",
       " 'training/labels/MLBS_074_2018.txt',\n",
       " 'training/labels/2018_SJER_3_255000_4107000_image_369.txt',\n",
       " 'training/labels/DELA_047_2019.txt',\n",
       " 'training/labels/2018_SJER_3_252000_4113000_image_310.txt',\n",
       " 'training/labels/2018_TEAK_3_315000_4107000_image_237.txt',\n",
       " 'training/labels/9.txt',\n",
       " 'training/labels/SJER_003_2018.txt',\n",
       " 'training/labels/2018_SJER_3_255000_4107000_image_298.txt',\n",
       " 'training/labels/TEAK_053_2018.txt',\n",
       " 'training/labels/WREF_084_2019.txt',\n",
       " 'training/labels/SJER_012_2018.txt',\n",
       " 'training/labels/2018_SJER_3_253000_4107000_image_532.txt',\n",
       " 'training/labels/2018_SJER_3_252000_4108000_image_517.txt',\n",
       " 'training/labels/TEAK_044_2018.txt',\n",
       " 'training/labels/15.txt',\n",
       " 'training/labels/ABBY_063_2019.txt',\n",
       " 'training/labels/ABBY_076_2019.txt',\n",
       " 'training/labels/2018_TEAK_3_323000_4098000_image_691.txt',\n",
       " 'training/labels/TEAK_049_2018.txt',\n",
       " 'training/labels/MLBS_061_2018.txt',\n",
       " 'training/labels/2019_TOOL_3_403000_7617000_image.txt',\n",
       " 'training/labels/2018_TEAK_3_319000_4102000_image_281.txt',\n",
       " 'training/labels/2018_SJER_3_252000_4113000_image_323.txt',\n",
       " 'training/labels/NIWO_002_2018.txt',\n",
       " 'training/labels/OSBS_028_2019.txt',\n",
       " 'training/labels/OSBS_023_2019.txt',\n",
       " 'training/labels/2018_SJER_3_253000_4105000_image_303.txt',\n",
       " 'training/labels/SJER_050_2018.txt',\n",
       " 'training/labels/2018_TEAK_3_324000_4095000_image_275.txt',\n",
       " 'training/labels/SJER_059_2018.txt',\n",
       " 'training/labels/2018_SJER_3_255000_4105000_image_142.txt',\n",
       " 'training/labels/2018_TEAK_3_319000_4095000_image_175.txt',\n",
       " 'training/labels/2019_OSBS_5_405000_3287000_image_crop2.txt',\n",
       " 'training/labels/2018_TEAK_3_323000_4093000_image_159.txt',\n",
       " 'training/labels/TEAK_060_2018.txt',\n",
       " 'training/labels/BLAN_005_2019.txt',\n",
       " 'training/labels/TEAK_050_2018.txt',\n",
       " 'training/labels/TALL_017_2019.txt',\n",
       " 'training/labels/NIWO_001_2018.txt',\n",
       " 'training/labels/2018_SJER_3_253000_4112000_image_581.txt',\n",
       " 'training/labels/2018_SJER_3_252000_4104000_image_628.txt',\n",
       " 'training/labels/2018_TEAK_3_318000_4107000_image_416.txt',\n",
       " 'training/labels/NIWO_017_2018.txt',\n",
       " 'training/labels/SOAP_031_2019.txt',\n",
       " 'training/labels/SJER_025_2018.txt',\n",
       " 'training/labels/2019_LENO_5_383000_3523000_image_crop.txt',\n",
       " 'training/labels/2018_TEAK_3_315000_4103000_image_87.txt',\n",
       " 'training/labels/2018_SJER_3_254000_4105000_image_703.txt',\n",
       " 'training/labels/SJER_004_2018.txt',\n",
       " 'training/labels/TEAK_055_2018.txt',\n",
       " 'training/labels/NIWO_010_2018.txt',\n",
       " 'training/labels/DSNY_025_2018.txt',\n",
       " 'training/labels/DSNY_005_2018.txt',\n",
       " 'training/labels/2018_MLBS_3_541000_4140000_image_crop.txt',\n",
       " 'training/labels/TALL_043_2019.txt',\n",
       " 'training/labels/2018_TEAK_3_322000_4096000_image_368.txt',\n",
       " 'training/labels/SJER_053_2018.txt',\n",
       " 'training/labels/2018_SJER_3_252000_4106000_image_66.txt',\n",
       " 'training/labels/OSBS_029_2019.txt',\n",
       " 'training/labels/UNDE_006_2017.txt',\n",
       " 'training/labels/2018_TEAK_3_315000_4094000_image_crop.txt',\n",
       " 'training/labels/2018_TEAK_3_318000_4107000_image_718.txt',\n",
       " 'training/labels/JERC_058_2018.txt',\n",
       " 'training/labels/2018_SJER_3_253000_4107000_image_637.txt',\n",
       " 'training/labels/2018_SJER_3_252000_4106000_image_234.txt',\n",
       " 'training/labels/2018_TEAK_3_318000_4102000_image_483.txt',\n",
       " 'training/labels/WREF_070_2019.txt',\n",
       " 'training/labels/OSBS_051_2019.txt',\n",
       " 'training/labels/NIWO_012_2018.txt',\n",
       " 'training/labels/CLBJ_042_2018.txt',\n",
       " 'training/labels/DSNY_007_2018.txt',\n",
       " 'training/labels/OSBS_040_2019.txt',\n",
       " 'training/labels/HARV_037_2018.txt',\n",
       " 'training/labels/TEAK_051_2018.txt',\n",
       " 'training/labels/2018_SJER_3_253000_4104000_image_637.txt',\n",
       " 'training/labels/SJER_026_2018.txt',\n",
       " 'training/labels/2018_JERC_4_742000_3451000_image_crop.txt',\n",
       " 'training/labels/SCBI_046_2019.txt',\n",
       " 'training/labels/DELA_015_2019.txt',\n",
       " 'training/labels/SJER_064_2018.txt',\n",
       " 'training/labels/SJER_057_2018.txt',\n",
       " 'training/labels/NIWO_011_2018.txt',\n",
       " 'training/labels/DSNY_002_2018.txt',\n",
       " 'training/labels/2018_TEAK_3_315000_4096000_image_163.txt',\n",
       " 'training/labels/SJER_063_2018.txt',\n",
       " 'training/labels/2018_TEAK_3_314000_4099000_image_334.txt',\n",
       " 'training/labels/NIWO_004_2018.txt',\n",
       " 'training/labels/OSBS_1.txt',\n",
       " 'training/labels/SJER_046_2018.txt',\n",
       " 'training/labels/UNDE_001_2017.txt',\n",
       " 'training/labels/2018_SJER_3_253000_4109000_image_573.txt',\n",
       " 'training/labels/2018_OSBS_4_405000_3286000_image.txt',\n",
       " 'training/labels/2018_SJER_3_255000_4108000_image_256.txt',\n",
       " 'training/labels/MLBS_062_2018.txt',\n",
       " 'training/labels/2019_ONAQ_2_367000_4449000_image_crop.txt',\n",
       " 'training/labels/BLAN_009_2019.txt',\n",
       " 'training/labels/2018_TEAK_3_320000_4093000_image_222.txt',\n",
       " 'training/labels/SJER_051_2018.txt',\n",
       " 'training/labels/2018_TEAK_3_314000_4108000_image_86.txt',\n",
       " 'training/labels/2018_SJER_3_253000_4108000_image_721.txt',\n",
       " 'training/labels/WREF_075_2019.txt',\n",
       " 'training/labels/2018_SJER_3_254000_4112000_image_145.txt',\n",
       " 'training/labels/2018_TEAK_3_322000_4102000_image_495.txt',\n",
       " 'training/labels/2018_TEAK_3_318000_4106000_image_165.txt',\n",
       " 'training/labels/TEAK_062_2018.txt',\n",
       " 'training/labels/HARV_040_2018.txt',\n",
       " 'training/labels/2018_NIWO_2_450000_4426000_image_crop.txt',\n",
       " 'training/labels/TEAK_046_2018.txt',\n",
       " 'training/labels/OSBS_037_2019.txt',\n",
       " 'training/labels/TEAK_054_2018.txt',\n",
       " 'training/labels/2018_BART_4_322000_4882000_image_crop.txt',\n",
       " 'training/labels/SJER_060_2018.txt',\n",
       " 'training/labels/2018_SJER_3_255000_4108000_image_224.txt',\n",
       " 'training/labels/2019_YELL_2_528000_4978000_image_crop2.txt']"
      ]
     },
     "execution_count": 81,
     "metadata": {},
     "output_type": "execute_result"
    }
   ],
   "source": [
    "from pylabel import importer\n",
    "dataset = importer.ImportVOC(path=\"data/annotations\")\n",
    "dataset.export.ExportToYoloV5()"
   ]
  },
  {
   "cell_type": "code",
   "execution_count": 82,
   "metadata": {},
   "outputs": [],
   "source": [
    "from pathlib import Path\n",
    "import fastcore.xtras"
   ]
  },
  {
   "cell_type": "code",
   "execution_count": 83,
   "metadata": {},
   "outputs": [],
   "source": [
    "labels = Path(\"training/labels\").ls().map(lambda x: x.stem)"
   ]
  },
  {
   "cell_type": "code",
   "execution_count": 84,
   "metadata": {},
   "outputs": [],
   "source": [
    "images = Path(\"data/evaluation/RGB\").ls(file_exts = \".tif\").map(lambda x: x.stem)"
   ]
  },
  {
   "cell_type": "code",
   "execution_count": 85,
   "metadata": {},
   "outputs": [],
   "source": [
    "images_val = Path(\"data/RGB\").ls(file_exts = \".tif\").map(lambda x: x.stem)"
   ]
  },
  {
   "cell_type": "code",
   "execution_count": 86,
   "metadata": {},
   "outputs": [
    {
     "data": {
      "text/plain": [
       "(#20) ['2018_JERC_4_742000_3451000_image_crop','2018_OSBS_4_405000_3286000_image','2018_MLBS_3_541000_4140000_image_crop2','2019_YELL_2_541000_4977000_image_crop','2018_SJER_3_258000_4106000_image','2018_TEAK_3_315000_4094000_image_crop','2019_DELA_5_423000_3601000_image_crop','2019_SJER_4_251000_4103000_image','2018_NIWO_2_450000_4426000_image_crop','2018_BART_4_322000_4882000_image_crop'...]"
      ]
     },
     "execution_count": 86,
     "metadata": {},
     "output_type": "execute_result"
    }
   ],
   "source": [
    "images_val"
   ]
  },
  {
   "cell_type": "code",
   "execution_count": 87,
   "metadata": {},
   "outputs": [
    {
     "data": {
      "text/plain": [
       "(2289, 226)"
      ]
     },
     "execution_count": 87,
     "metadata": {},
     "output_type": "execute_result"
    }
   ],
   "source": [
    "len(images), len(labels)"
   ]
  },
  {
   "cell_type": "code",
   "execution_count": 88,
   "metadata": {},
   "outputs": [],
   "source": [
    "actual_images = set(images).intersection(set(labels))"
   ]
  },
  {
   "cell_type": "code",
   "execution_count": 89,
   "metadata": {},
   "outputs": [],
   "source": [
    "actual_images_val = set(images_val).intersection(set(labels))"
   ]
  },
  {
   "cell_type": "code",
   "execution_count": 90,
   "metadata": {},
   "outputs": [
    {
     "data": {
      "text/plain": [
       "194"
      ]
     },
     "execution_count": 90,
     "metadata": {},
     "output_type": "execute_result"
    }
   ],
   "source": [
    "len(actual_images)"
   ]
  },
  {
   "cell_type": "code",
   "execution_count": 91,
   "metadata": {},
   "outputs": [
    {
     "data": {
      "text/plain": [
       "20"
      ]
     },
     "execution_count": 91,
     "metadata": {},
     "output_type": "execute_result"
    }
   ],
   "source": [
    "len(actual_images_val)"
   ]
  },
  {
   "cell_type": "code",
   "execution_count": 92,
   "metadata": {},
   "outputs": [
    {
     "data": {
      "text/plain": [
       "set()"
      ]
     },
     "execution_count": 92,
     "metadata": {},
     "output_type": "execute_result"
    }
   ],
   "source": [
    "actual_images.intersection(actual_images_val)"
   ]
  },
  {
   "cell_type": "code",
   "execution_count": 93,
   "metadata": {},
   "outputs": [],
   "source": [
    "base_out = Path(\"neon_tree_evaluation_yolo\")\n",
    "base_out.mkdir(exist_ok=True)\n",
    "(base_out / \"val\").mkdir(exist_ok=True)\n",
    "(base_out / \"train\").mkdir(exist_ok=True)\n",
    "(base_out / \"val\" / \"images\").mkdir(exist_ok=True)\n",
    "(base_out / \"train\" / \"images\").mkdir(exist_ok=True)\n",
    "(base_out / \"val\" / \"labels\").mkdir(exist_ok=True)\n",
    "(base_out / \"train\" / \"labels\").mkdir(exist_ok=True)"
   ]
  },
  {
   "cell_type": "code",
   "execution_count": 94,
   "metadata": {},
   "outputs": [],
   "source": [
    "import shutil\n",
    "import random"
   ]
  },
  {
   "cell_type": "code",
   "execution_count": 95,
   "metadata": {},
   "outputs": [],
   "source": [
    "all_labels = actual_images.union(actual_images_val)"
   ]
  },
  {
   "cell_type": "code",
   "execution_count": 96,
   "metadata": {},
   "outputs": [],
   "source": [
    "random.seed(27)\n",
    "idx_val = random.choices(list(range(len(actual_images))), k=int(len(actual_images) * 0.2))"
   ]
  },
  {
   "cell_type": "code",
   "execution_count": 97,
   "metadata": {},
   "outputs": [
    {
     "data": {
      "text/plain": [
       "(38, 194)"
      ]
     },
     "execution_count": 97,
     "metadata": {},
     "output_type": "execute_result"
    }
   ],
   "source": [
    "len(idx_val), len(actual_images)"
   ]
  },
  {
   "cell_type": "code",
   "execution_count": 98,
   "metadata": {},
   "outputs": [],
   "source": [
    "train = [x for i, x in enumerate(actual_images) if i not in idx_val]\n",
    "val = [x for i, x in enumerate(actual_images) if i in idx_val]"
   ]
  },
  {
   "cell_type": "code",
   "execution_count": 99,
   "metadata": {},
   "outputs": [],
   "source": [
    "for label in train:\n",
    "    shutil.copy(f\"training/labels/{label}.txt\", base_out / \"train/labels\")"
   ]
  },
  {
   "cell_type": "code",
   "execution_count": 100,
   "metadata": {},
   "outputs": [],
   "source": [
    "for label in val:\n",
    "    shutil.copy(f\"training/labels/{label}.txt\", base_out / \"val/labels\")"
   ]
  },
  {
   "cell_type": "code",
   "execution_count": 101,
   "metadata": {},
   "outputs": [],
   "source": [
    "for label in train:\n",
    "    shutil.copy(f\"data/evaluation/RGB/{label}.tif\", base_out / \"train/images\")"
   ]
  },
  {
   "cell_type": "code",
   "execution_count": 103,
   "metadata": {},
   "outputs": [],
   "source": [
    "for label in val:\n",
    "    shutil.copy(f\"data/evaluation/RGB/{label}.tif\", base_out / \"val/images\")"
   ]
  },
  {
   "cell_type": "code",
   "execution_count": 106,
   "metadata": {},
   "outputs": [],
   "source": [
    "dataset_yaml = \"\"\"path: .\n",
    "names:\n",
    "    0: Tree\n",
    "train: ./train/images\n",
    "val: ./val/images\n",
    "\"\"\""
   ]
  },
  {
   "cell_type": "code",
   "execution_count": 107,
   "metadata": {},
   "outputs": [
    {
     "data": {
      "text/plain": [
       "67"
      ]
     },
     "execution_count": 107,
     "metadata": {},
     "output_type": "execute_result"
    }
   ],
   "source": [
    "Path(\"neon_tree_evaluation_yolo/dataset.yaml\").write_text(dataset_yaml)"
   ]
  },
  {
   "cell_type": "code",
   "execution_count": null,
   "metadata": {},
   "outputs": [],
   "source": []
  }
 ],
 "metadata": {
  "kernelspec": {
   "display_name": "default",
   "language": "python",
   "name": "python3"
  },
  "language_info": {
   "codemirror_mode": {
    "name": "ipython",
    "version": 3
   },
   "file_extension": ".py",
   "mimetype": "text/x-python",
   "name": "python",
   "nbconvert_exporter": "python",
   "pygments_lexer": "ipython3",
   "version": "3.10.13"
  }
 },
 "nbformat": 4,
 "nbformat_minor": 2
}
